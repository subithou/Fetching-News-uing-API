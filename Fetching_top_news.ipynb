{
  "nbformat": 4,
  "nbformat_minor": 0,
  "metadata": {
    "colab": {
      "name": "Fetching top news.ipynb",
      "provenance": [],
      "authorship_tag": "ABX9TyMd5dzbxxxw4KtzLnKWyR7+",
      "include_colab_link": true
    },
    "kernelspec": {
      "name": "python3",
      "display_name": "Python 3"
    },
    "language_info": {
      "name": "python"
    }
  },
  "cells": [
    {
      "cell_type": "markdown",
      "metadata": {
        "id": "view-in-github",
        "colab_type": "text"
      },
      "source": [
        "<a href=\"https://colab.research.google.com/github/subithou/Fetching-News-uing-API/blob/main/Fetching_top_news.ipynb\" target=\"_parent\"><img src=\"https://colab.research.google.com/assets/colab-badge.svg\" alt=\"Open In Colab\"/></a>"
      ]
    },
    {
      "cell_type": "markdown",
      "source": [
        "# **Fetching top news using News API**\n",
        "\n",
        "\n",
        "---\n",
        "**Requirements**\n",
        "\n",
        "* Visit https://newsapi.org/ to get your own API key.\n",
        "\n",
        "* pip install pywin32 "
      ],
      "metadata": {
        "id": "lb4Mgu8B8aE3"
      }
    },
    {
      "cell_type": "code",
      "source": [
        "!pip install requests"
      ],
      "metadata": {
        "id": "NCR7OWN89L0x"
      },
      "execution_count": null,
      "outputs": []
    },
    {
      "cell_type": "code",
      "execution_count": null,
      "metadata": {
        "id": "_PgLYtik8UlH"
      },
      "outputs": [],
      "source": [
        "# importing requests package\n",
        "import requests    \n",
        " \n",
        "def NewsFromBBC():\n",
        "     \n",
        "    # BBC news api\n",
        "    # following query parameters are used\n",
        "    # source, sortBy and apiKey\n",
        "    query_params = {\n",
        "      \"source\": \"bbc-news\",\n",
        "      \"sortBy\": \"top\",\n",
        "      \"apiKey\": \"da7066daf3ad4f73969b54a077a11bdb\"\n",
        "    }\n",
        "    main_url = \" https://newsapi.org/v1/articles\"\n",
        " \n",
        "    # fetching data in json format\n",
        "    res = requests.get(main_url, params=query_params)\n",
        "    open_bbc_page = res.json()\n",
        " \n",
        "    # getting all articles in a string article\n",
        "    article = open_bbc_page[\"articles\"]\n",
        " \n",
        "    # empty list which will\n",
        "    # contain all trending news\n",
        "    results = []\n",
        "     \n",
        "    for ar in article:\n",
        "        results.append(ar[\"title\"])\n",
        "         \n",
        "    for i in range(len(results)):\n",
        "         \n",
        "        # printing all trending news\n",
        "        print(i + 1, results[i])\n",
        " \n",
        "    #to read the news out loud for us\n",
        "    '''from win32com.client import Dispatch\n",
        "    speak = Dispatch(\"SAPI.Spvoice\")\n",
        "    speak.Speak(results) '''               \n",
        " \n",
        "# Driver Code\n",
        "if __name__ == '__main__':\n",
        "     \n",
        "    # function call\n",
        "    NewsFromBBC()"
      ]
    },
    {
      "cell_type": "markdown",
      "source": [
        "**The news according to the category entered by the user so as work as a filter for those who want to know the news in a particular category/section**"
      ],
      "metadata": {
        "id": "i99s2UKQCXns"
      }
    },
    {
      "cell_type": "markdown",
      "source": [
        "**Requirements**"
      ],
      "metadata": {
        "id": "Nc6038w5Cqkj"
      }
    },
    {
      "cell_type": "code",
      "source": [
        "!pip install newsapi-python\n",
        "!pip install pycountry"
      ],
      "metadata": {
        "id": "B8-k3fWeCdQu"
      },
      "execution_count": null,
      "outputs": []
    },
    {
      "cell_type": "markdown",
      "source": [
        "Source Code"
      ],
      "metadata": {
        "id": "b2TP5vKzCt9b"
      }
    },
    {
      "cell_type": "code",
      "source": [
        "from newsapi import NewsApiClient\n",
        "import pycountry\n",
        " \n",
        "# you have to get your api key from newapi.com and then paste it below\n",
        "newsapi = NewsApiClient(api_key='da7066daf3ad4f73969b54a077a11bdb')\n",
        " \n",
        "# now we will take name of country from user as input\n",
        "input_country = input(\"Country: \")\n",
        "input_countries = [f'{input_country.strip()}']\n",
        "countries = {}\n",
        " \n",
        "# iterate over all the countries in\n",
        "# the world using pycountry module\n",
        "for country in pycountry.countries:\n",
        " \n",
        "    # and store the unique code of each country\n",
        "    # in the dictionary along with it's full name\n",
        "    countries[country.name] = country.alpha_2\n",
        " \n",
        "# now we will check that the entered country name is\n",
        "# valid or invalid using the unique code\n",
        "codes = [countries.get(country.title(), 'Unknown code')\n",
        "         for country in input_countries]\n",
        " \n",
        "# now we have to display all the categories from which user will\n",
        "# decide and enter the name of that category\n",
        "option = input(\"Which category are you interested in?\\n1.Business\\n2.Entertainment\\n3.General\\n4.Health\\n5.Science\\n6.Technology\\n\\nEnter here: \")\n",
        " \n",
        "# now we will fetch the new according to the choice of the user\n",
        "top_headlines = newsapi.get_top_headlines(\n",
        " \n",
        "    # getting top headlines from all the news channels\n",
        "    category=f'{option.lower()}', language='en', country=f'{codes[0].lower()}')\n",
        " \n",
        "# fetch the top news under that category\n",
        "Headlines = top_headlines['articles']\n",
        " \n",
        "   # now we will display the that news with a good readability for user\n",
        "if Headlines:\n",
        "        for articles in Headlines:\n",
        "            b = articles['title'][::-1].index(\"-\")\n",
        "            if \"news\" in (articles['title'][-b+1:]).lower():\n",
        "                print(\n",
        "                    f\"{articles['title'][-b+1:]}: {articles['title'][:-b-2]}.\")\n",
        "            else:\n",
        "                print(\n",
        "                    f\"{articles['title'][-b+1:]} News: {articles['title'][:-b-2]}.\")\n",
        "else:\n",
        "        print(f\"Sorry no articles found for {input_country}, Something Wrong!!!\")\n",
        "\n",
        "option = input(\"\\n\\nDo you want to search again[Yes/No]?\")\n",
        "\n",
        "if option.lower() == 'yes':\n",
        "    continue\n",
        "else:\n",
        "    exit()"
      ],
      "metadata": {
        "colab": {
          "base_uri": "https://localhost:8080/",
          "height": 703
        },
        "id": "KcO4By_ZCopC",
        "outputId": "acdcc18e-5aaf-4e5a-d95e-4b768a9c17b7"
      },
      "execution_count": 29,
      "outputs": [
        {
          "name": "stdout",
          "output_type": "stream",
          "text": [
            "Country: India\n",
            "Which category are you interested in?\n",
            "1.Business\n",
            "2.Entertainment\n",
            "3.General\n",
            "4.Health\n",
            "5.Science\n",
            "6.Technology\n",
            "\n",
            "Enter here: General\n",
            "Mint News: Mint Digest: Govt mulls appeal against English Court order, investors lose over ₹9.75 trn in 2 days of market crash | Mint.\n",
            "Zee News: Full moon 2022: Strawberry Supermoon to peak on June 14, check timings and other details.\n",
            "NDTV News: \"When 3 Big, Burly Cops Crash Into You\": P Chidambaram On Rib Fracture.\n",
            "Times of India News: IPL Media Rights: BCCI richer by Rs 46,000 crore and counting, digital rights soars to Rs 50 crore per ga.\n",
            "Times of India News: US makes Asia inroads by playing down need to oppose China.\n",
            "NDTV News: Protests Over Prophet Row - 'Hot Mic' With Nidhi Razdan.\n",
            "Hindustan Times News: Days after retirement, Mithali Raj opens up on feud with coach.\n",
            "Times of India News: Lanka electricity chief resigns after withdrawing remark on Adani Group deal.\n",
            "The Indian Express News: Bengal passes Bill to replace Governor with CM as Chancellor of state universities.\n",
            "Gadgets Now News: Astra rocket launch failure: Two Nasa weather satellites lost.\n",
            "Hindustan Times News: CAA ‘not helpful’ to tackle problems of Bangladesh’s Hindus: Community leader.\n",
            "Hindustan Times News: Russia becomes India's second-biggest oil exporter, trade sources.\n",
            "XDA Developers News: How to quickly lift subjects and remove background in Photos app on iOS and iPadOS 16.\n",
            "Hindustan Times News: Watch: KC Venugopal manhandled by cops in Delhi during rally for Rahul Gandhi.\n",
            "The Indian Express News: 'Hate speech': Delhi HC upholds lower court order of no FIR against Anurag Thakur, Parvesh Verma.\n",
            "Business Standard News: Carl Peis Nothing to locally manufacture smartphone in India: Official.\n",
            "Hindustan Times News: Ahan Shetty calls himself ‘product of nepotism’, admits he has it easier.\n",
            "Express Healthcare News: Karkinos Healthcare launches Advanced Center for Cancer Diagnostics and Research.\n",
            "ESPNcricinfo News: Match Preview - India vs South Africa, South Africa in India 2022, 3rd T20I.\n",
            "Times of India News: A $17 billion loss puts LIC IPO among top Asia wealth losers.\n",
            "\n",
            "\n",
            "Do you want to search again[Yes/No]?No\n"
          ]
        },
        {
          "output_type": "error",
          "ename": "SyntaxError",
          "evalue": "ignored",
          "traceback": [
            "\u001b[0;36m  File \u001b[0;32m\"<ipython-input-29-654933110616>\"\u001b[0;36m, line \u001b[0;32m54\u001b[0m\n\u001b[0;31m    continue\u001b[0m\n\u001b[0m    ^\u001b[0m\n\u001b[0;31mSyntaxError\u001b[0m\u001b[0;31m:\u001b[0m 'continue' not properly in loop\n"
          ]
        }
      ]
    }
  ]
}